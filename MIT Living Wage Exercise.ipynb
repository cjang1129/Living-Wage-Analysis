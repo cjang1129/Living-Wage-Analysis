{
 "cells": [
  {
   "cell_type": "code",
   "execution_count": 1,
   "metadata": {},
   "outputs": [],
   "source": [
    "#pip install wget"
   ]
  },
  {
   "cell_type": "code",
   "execution_count": 2,
   "metadata": {},
   "outputs": [],
   "source": [
    "#pip install prettytable"
   ]
  },
  {
   "cell_type": "code",
   "execution_count": 3,
   "metadata": {},
   "outputs": [],
   "source": [
    "# usual imports\n",
    "import os\n",
    "import itertools\n",
    "from collections import OrderedDict, defaultdict\n",
    "\n",
    "# data sciency \n",
    "import numpy as np\n",
    "import pandas as pd\n",
    "import seaborn as sns\n",
    "import matplotlib.pyplot as plt\n",
    "from scipy import stats\n",
    "import statsmodels.api as sm\n",
    "\n",
    "# web scraping tools\n",
    "from bs4 import BeautifulSoup\n",
    "import wget\n",
    "\n",
    "# plot formatting tools\n",
    "from prettytable import PrettyTable\n",
    "from IPython.core.display import HTML\n",
    "from pprint import pprint"
   ]
  },
  {
   "cell_type": "code",
   "execution_count": 4,
   "metadata": {},
   "outputs": [],
   "source": [
    "# basic functions for deafultdict\n",
    "def constant_factory(value):\n",
    "    '''Always produces a constant value; used for defaultdict'''\n",
    "    return next(itertools.repeat(value))\n",
    "\n",
    "def caption(msg, tablenum):\n",
    "    '''helps convert text into a table caption'''\n",
    "    return \"<br><br>Table %d - %s</b>\" % (tablenum, msg)"
   ]
  },
  {
   "cell_type": "markdown",
   "metadata": {},
   "source": [
    "### Initial inflation multipliers to get 2019 dollars from 2018"
   ]
  },
  {
   "cell_type": "code",
   "execution_count": 5,
   "metadata": {},
   "outputs": [],
   "source": [
    "inflation_multiplier = {\n",
    "    2018: 1.02\n",
    "}"
   ]
  },
  {
   "cell_type": "markdown",
   "metadata": {},
   "source": [
    "### Regions used "
   ]
  },
  {
   "cell_type": "code",
   "execution_count": 6,
   "metadata": {},
   "outputs": [],
   "source": [
    "Region_East = 'east'\n",
    "Region_Midwest = 'midwest'\n",
    "Region_South = 'south'\n",
    "Region_West = 'west'\n",
    "Region_Base = 'base' #used for states without a region (ex. alaska/hawaii)\n",
    "\n",
    "#map state to a region in order to adjust for weights\n",
    "\n",
    "state_to_region_map = (\n",
    "    {\n",
    "    'PA': Region_East, 'NJ': Region_East, 'NY': Region_East, 'CT': Region_East, 'MA': Region_East,\n",
    "    'NH': Region_East, 'VT': Region_East, 'ME': Region_East, 'RI': Region_East,\n",
    "    'OH': Region_Midwest, 'IL': Region_Midwest, 'IN': Region_Midwest, 'WI': Region_Midwest, 'MI': Region_Midwest,\n",
    "    'MN': Region_Midwest, 'IA': Region_Midwest, 'MO': Region_Midwest, 'KS': Region_Midwest, 'NE': Region_Midwest,\n",
    "    'SD': Region_Midwest, 'ND': Region_Midwest,\n",
    "    'TX': Region_South, 'OK': Region_South, 'AR': Region_South, 'LA': Region_South, 'MS': Region_South,\n",
    "    'AL': Region_South, 'GA': Region_South, 'FL': Region_South, 'SC': Region_South, 'NC': Region_South,\n",
    "    'VA': Region_South, 'WV': Region_South, 'KY': Region_South, 'TN': Region_South, 'MD': Region_South,\n",
    "    'DE': Region_South, 'DC': Region_South,\n",
    "    'CA': Region_West, 'OR': Region_West, 'WA': Region_West, 'NV': Region_West, 'ID': Region_West,\n",
    "    'UT': Region_West, 'AZ': Region_West, 'MT': Region_West, 'WY': Region_West, 'CO': Region_West,\n",
    "    'NM': Region_West, \n",
    "    'AK': Region_Base, 'HI': Region_Base, 'AS': Region_Base, 'GU': Region_Base, 'MP': Region_Base, 'PR': Region_Base,\n",
    "    'VI': Region_Base    \n",
    "})"
   ]
  },
  {
   "cell_type": "code",
   "execution_count": 7,
   "metadata": {},
   "outputs": [],
   "source": [
    "# Create inverse mapping of region to list of states\n",
    "region_to_state_mapping = { }\n",
    "for state, region in state_to_region_map.items():\n",
    "    if region in region_to_state_mapping:\n",
    "        region_to_state_mapping[region].append(state)\n",
    "    else:\n",
    "        region_to_state_mapping[region] = [state]"
   ]
  },
  {
   "cell_type": "markdown",
   "metadata": {},
   "source": [
    "#### Inverse mapping from region to states"
   ]
  },
  {
   "cell_type": "code",
   "execution_count": 8,
   "metadata": {},
   "outputs": [],
   "source": [
    "state_to_statename_map = {'Federal': 'Federal', 'AS':'American Samoa','AK':'Alaska', 'AL':'Alabama', 'AR':'Arkansas', 'AZ':'Arizona',\n",
    "                         'CA':'California', 'CO':'Colorado', 'CT':'Connecticut', 'DC':'District of Columbia', \n",
    "                         'DE':'Delaware', 'FL':'Florida', 'GA':'Georgia', 'GU':'Guam', 'HI':'Hawaii', 'IA':'Iowa', \n",
    "                         'ID':'Idaho', 'MA':'Massachusetts', 'MD':'Maryland', 'ME':'Maine', 'MI':'Michigan',\n",
    "                         'MN':'Minnesota', 'MO':'Missouri', 'MP':'Mariana Islands', 'MS':'Mississippi', 'MT':'Montana', 'NC':'North Carolina',\n",
    "                         'ND':'North Dakota', 'NE':'Nebraska', 'NH':'New Hampshire', 'NJ':'New Jersey', 'NM':'New Mexico',\n",
    "                         'NV':'Nevada', 'NY':'New York', 'OH':'Ohio', 'OK':'Oklahoma', 'OR':'Oregon', 'PA':'Pennsylvania', 'PR':'Puerto Rico',\n",
    "                         'RI':'Rhode Island', 'SC':'South Carolina', 'SD':'South Dakota', 'TN':'Tennessee', 'TX':'Texas',\n",
    "                         'UT':'Utah', 'VA':'Virgina', 'VI':'Virgin Islands', 'VT':'Vermont', 'WA':'Washington','WI':'Wisconsin', 'WV':'West Virginia',\n",
    "                         'WY':'Wyoming'}\n",
    "\n",
    "statename_to_state_map = {statename:state for (state, statename) in state_to_statename_map.items()}"
   ]
  },
  {
   "cell_type": "markdown",
   "metadata": {},
   "source": [
    "#### Regional differences for food data"
   ]
  },
  {
   "cell_type": "code",
   "execution_count": 9,
   "metadata": {},
   "outputs": [],
   "source": [
    "food_regional_multipliers = {\n",
    "    Region_East: 0.08,\n",
    "    Region_West: 0.11,\n",
    "    Region_South: -0.07,\n",
    "    Region_Midwest: -0.05\n",
    "}"
   ]
  },
  {
   "cell_type": "markdown",
   "metadata": {},
   "source": [
    "#### Define the model year"
   ]
  },
  {
   "cell_type": "code",
   "execution_count": 10,
   "metadata": {},
   "outputs": [],
   "source": [
    "model_year = 2019"
   ]
  },
  {
   "cell_type": "markdown",
   "metadata": {},
   "source": [
    "## Data Sources"
   ]
  },
  {
   "cell_type": "markdown",
   "metadata": {},
   "source": [
    "### Consumer Expenditure Report from BLS"
   ]
  },
  {
   "cell_type": "code",
   "execution_count": 11,
   "metadata": {},
   "outputs": [],
   "source": [
    "# Get CEX for 2018\n",
    "# wget.download('http://www.bls.gov/cex/2019/combined/cusize.xlsx')"
   ]
  },
  {
   "cell_type": "markdown",
   "metadata": {},
   "source": [
    "### Free Market Rent Data from HUD"
   ]
  },
  {
   "cell_type": "code",
   "execution_count": 12,
   "metadata": {},
   "outputs": [],
   "source": [
    "# wget.download('https://www.huduser.gov/portal/datasets/fmr/fmr2019/FY2019_4050_FMRs_rev2.xlsx')"
   ]
  },
  {
   "cell_type": "code",
   "execution_count": 13,
   "metadata": {},
   "outputs": [],
   "source": [
    "# create a dictionary for counties - future use\n",
    "counties = { }"
   ]
  },
  {
   "cell_type": "markdown",
   "metadata": {},
   "source": [
    "### Medical Expenditure from AHRQ"
   ]
  },
  {
   "cell_type": "code",
   "execution_count": 14,
   "metadata": {},
   "outputs": [],
   "source": [
    "# load insurance data and parse through html\n",
    "# wget.download('https://www.meps.ahrq.gov/data_stats/summ_tables/insr/state/series_10/2018/txe1.htm')"
   ]
  },
  {
   "cell_type": "markdown",
   "metadata": {},
   "source": [
    "### Tax data"
   ]
  },
  {
   "cell_type": "code",
   "execution_count": 15,
   "metadata": {},
   "outputs": [],
   "source": [
    "# Federal taxes are taken from the Urban-Brooking Tax Policy Center Microsimulation Model.\n",
    "# It includes: Individual incomes taxes, payroll taxes, corporate income tax, estate tax, and excise tax.\n",
    "\n",
    "# wget.download('https://www.taxpolicycenter.org/file/157131/download?token=_7XWdK7j')"
   ]
  },
  {
   "cell_type": "code",
   "execution_count": 16,
   "metadata": {},
   "outputs": [],
   "source": [
    "# State tax rate is taken from the state income tax rate, as reported by the CCH State Tax Handbook 2015\n",
    "# The URL provided in the technical documentation did not produce the data required\n",
    "# We will use state income tax data from taxfoundation.org and not the CCH State Tax Handbook 2015\n",
    "\n",
    "# wget.download('https://files.taxfoundation.org/20201130110549/State-Individual-Income-Tax-Rates-and-Brackets-for-2020-U.xlsx')"
   ]
  },
  {
   "cell_type": "markdown",
   "metadata": {},
   "source": [
    "### Housing Costs \n",
    "#### For this project we are assuming a three-person household of two adults (19-50yrs) and one young child (4 yrs). Thus, a two-bedroom apartment is the default assumption for rent. \n",
    "#### The counties are identified by the FIPS code (state code+county code+subcounty code)"
   ]
  },
  {
   "cell_type": "code",
   "execution_count": 17,
   "metadata": {},
   "outputs": [],
   "source": [
    "# Fair Market Rent (FMR) Data\n",
    "fmr_data = { }\n",
    "\n",
    "def pad_county(county):\n",
    "    '''Pad counties to three digits when we need to construct one manually'''\n",
    "    return '%03d' % county\n",
    "\n",
    "def pad_fips(fip):\n",
    "    '''add 99999 to end of fip code (which nullifies the subcounty identifier)'''\n",
    "    return int(str(fip) + '99999')"
   ]
  },
  {
   "cell_type": "code",
   "execution_count": 18,
   "metadata": {},
   "outputs": [],
   "source": [
    "fmr_data2019 = pd.read_excel(\"/Users/cj/Documents/FY2019_4050_FMRs_rev2.xlsx\")\n",
    "fmr_data2019 = fmr_data2019[[\"fmr_1\", \"county\", \"cousub\", \"countyname\", \"fips2010\", \"pop2010\", \"state\", \"state_alpha\"]]\n",
    "fmr_data2019.rename(columns={'fips2010':'fips', 'pop2010':'pop'}, inplace=True)\n",
    "fmr_data2019['fips'] = fmr_data2019['fips'].map(lambda x: (x / 100000) * 100000 + 99999)\n",
    "fmr_data2019 = fmr_data2019.drop_duplicates(subset=[\"state\", \"countyname\"])"
   ]
  },
  {
   "cell_type": "code",
   "execution_count": 19,
   "metadata": {},
   "outputs": [],
   "source": [
    "# add region column, the defaultdict will use region base if the state is not in the initial state to region mapping\n",
    "fmr_data2019['region'] = fmr_data2019['state_alpha'].map(lambda x: state_to_region_map[x])"
   ]
  },
  {
   "cell_type": "code",
   "execution_count": 20,
   "metadata": {},
   "outputs": [
    {
     "name": "stderr",
     "output_type": "stream",
     "text": [
      "<>:6: SyntaxWarning: list indices must be integers or slices, not str; perhaps you missed a comma?\n",
      "<>:6: SyntaxWarning: list indices must be integers or slices, not str; perhaps you missed a comma?\n",
      "<ipython-input-20-476af8df7278>:6: SyntaxWarning: list indices must be integers or slices, not str; perhaps you missed a comma?\n",
      "  selector = fmr_data2019[fmr_data2019]['state_alpha'] == ['state']['countyname'].map(str.lower) == county.lower()\n"
     ]
    },
    {
     "ename": "ValueError",
     "evalue": "not enough values to unpack (expected 1, got 0)",
     "output_type": "error",
     "traceback": [
      "\u001b[0;31m---------------------------------------------------------------------------\u001b[0m",
      "\u001b[0;31mValueError\u001b[0m                                Traceback (most recent call last)",
      "\u001b[0;32m<ipython-input-20-476af8df7278>\u001b[0m in \u001b[0;36m<module>\u001b[0;34m\u001b[0m\n\u001b[1;32m      3\u001b[0m \u001b[0;34m\u001b[0m\u001b[0m\n\u001b[1;32m      4\u001b[0m \u001b[0memployed_fips\u001b[0m \u001b[0;34m=\u001b[0m \u001b[0;34m[\u001b[0m\u001b[0;34m]\u001b[0m\u001b[0;34m\u001b[0m\u001b[0;34m\u001b[0m\u001b[0m\n\u001b[0;32m----> 5\u001b[0;31m \u001b[0;32mfor\u001b[0m \u001b[0;34m(\u001b[0m\u001b[0mcounty\u001b[0m\u001b[0;34m,\u001b[0m \u001b[0mstate\u001b[0m\u001b[0;34m)\u001b[0m\u001b[0;34m,\u001b[0m \u001b[0;32min\u001b[0m \u001b[0memployed_counties\u001b[0m\u001b[0;34m:\u001b[0m\u001b[0;34m\u001b[0m\u001b[0;34m\u001b[0m\u001b[0m\n\u001b[0m\u001b[1;32m      6\u001b[0m     \u001b[0mselector\u001b[0m \u001b[0;34m=\u001b[0m \u001b[0mfmr_data2019\u001b[0m\u001b[0;34m[\u001b[0m\u001b[0mfmr_data2019\u001b[0m\u001b[0;34m]\u001b[0m\u001b[0;34m[\u001b[0m\u001b[0;34m'state_alpha'\u001b[0m\u001b[0;34m]\u001b[0m \u001b[0;34m==\u001b[0m \u001b[0;34m[\u001b[0m\u001b[0;34m'state'\u001b[0m\u001b[0;34m]\u001b[0m\u001b[0;34m[\u001b[0m\u001b[0;34m'countyname'\u001b[0m\u001b[0;34m]\u001b[0m\u001b[0;34m.\u001b[0m\u001b[0mmap\u001b[0m\u001b[0;34m(\u001b[0m\u001b[0mstr\u001b[0m\u001b[0;34m.\u001b[0m\u001b[0mlower\u001b[0m\u001b[0;34m)\u001b[0m \u001b[0;34m==\u001b[0m \u001b[0mcounty\u001b[0m\u001b[0;34m.\u001b[0m\u001b[0mlower\u001b[0m\u001b[0;34m(\u001b[0m\u001b[0;34m)\u001b[0m\u001b[0;34m\u001b[0m\u001b[0;34m\u001b[0m\u001b[0m\n\u001b[1;32m      7\u001b[0m     \u001b[0;32mif\u001b[0m \u001b[0;32mnot\u001b[0m \u001b[0mnp\u001b[0m\u001b[0;34m.\u001b[0m\u001b[0many\u001b[0m\u001b[0;34m(\u001b[0m\u001b[0mselector\u001b[0m\u001b[0;34m)\u001b[0m\u001b[0;34m:\u001b[0m\u001b[0;34m\u001b[0m\u001b[0;34m\u001b[0m\u001b[0m\n",
      "\u001b[0;31mValueError\u001b[0m: not enough values to unpack (expected 1, got 0)"
     ]
    }
   ],
   "source": [
    "# counties employed\n",
    "employed_counties = [( )]\n",
    "\n",
    "employed_fips = []\n",
    "for (county, state), in employed_counties:\n",
    "    selector = fmr_data2019[fmr_data2019]['state_alpha'] == ['state']['countyname'].map(str.lower) == county.lower()\n",
    "    if not np.any(selector):\n",
    "        print(\"missed %s %s\" % (county, state))\n",
    "    else:\n",
    "        employed_fips.append(fmr_data2019[fmr_data2019]['state_alpha']==['state'][selector]['fips'].values[0])"
   ]
  },
  {
   "cell_type": "code",
   "execution_count": null,
   "metadata": {},
   "outputs": [],
   "source": [
    "print(len(employed_counties))\n",
    "print(len(employed_fips))"
   ]
  },
  {
   "cell_type": "markdown",
   "metadata": {},
   "source": [
    "### Food Costs - USDA's low-cost food plan national average in June 2019\n",
    "#### Adult food consumption costs are estimated by averaging the low-cost plan food costs for males and females between 19-50\n",
    "#### Child food costs are estimated using the various categories in the low-cost food plan based on the child age assumptions (4 year old - 'young child'"
   ]
  },
  {
   "cell_type": "code",
   "execution_count": 25,
   "metadata": {},
   "outputs": [],
   "source": [
    "national_monthly_food_cost = {\n",
    "    2019: {'base': np.average([242.80,205.00]) + 137.40}\n",
    "}"
   ]
  },
  {
   "cell_type": "code",
   "execution_count": 26,
   "metadata": {
    "scrolled": true
   },
   "outputs": [],
   "source": [
    "# regional adjustment\n",
    "for region in food_regional_multipliers:\n",
    "    national_monthly_food_cost[2019][region] = \\\n",
    "        national_monthly_food_cost[2019]['base'] * (1 + food_regional_multipliers[region])\n",
    "\n",
    "national_monthly_food_cost_df = pd.DataFrame.from_dict(national_monthly_food_cost)"
   ]
  },
  {
   "cell_type": "markdown",
   "metadata": {},
   "source": [
    "### Child Care Costs - state level estimates published by the National Association of Child Care Resource and Referral Agencies in 2016\n",
    "### Values were inflated from 2016 to 2019 dollars using the Consumer Price Index inflation multiplier from the BLS"
   ]
  },
  {
   "cell_type": "code",
   "execution_count": null,
   "metadata": {},
   "outputs": [],
   "source": []
  }
 ],
 "metadata": {
  "kernelspec": {
   "display_name": "Python 3",
   "language": "python",
   "name": "python3"
  },
  "language_info": {
   "codemirror_mode": {
    "name": "ipython",
    "version": 3
   },
   "file_extension": ".py",
   "mimetype": "text/x-python",
   "name": "python",
   "nbconvert_exporter": "python",
   "pygments_lexer": "ipython3",
   "version": "3.8.5"
  }
 },
 "nbformat": 4,
 "nbformat_minor": 4
}
